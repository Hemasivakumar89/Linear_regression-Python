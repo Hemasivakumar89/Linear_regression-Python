{
 "cells": [
  {
   "cell_type": "code",
   "execution_count": 3,
   "id": "687918ed-7176-44b4-9c2d-aeb44c445268",
   "metadata": {},
   "outputs": [],
   "source": [
    "import pandas as pd\n",
    "import matplotlib.pyplot as plt\n",
    "from sklearn.linear_model import LinearRegression"
   ]
  },
  {
   "cell_type": "markdown",
   "id": "4c4add8d-cac8-4392-a7c0-f4d84304f04d",
   "metadata": {},
   "source": [
    "## Load the dataset"
   ]
  },
  {
   "cell_type": "code",
   "execution_count": 5,
   "id": "23c78340-830f-4aaa-914f-e819464ede13",
   "metadata": {},
   "outputs": [],
   "source": [
    "df = pd.read_csv(\"regrex1.csv\")"
   ]
  },
  {
   "cell_type": "markdown",
   "id": "2662a662-204a-4621-9310-694b05029ea1",
   "metadata": {},
   "source": [
    "## Scatter plot for original data"
   ]
  },
  {
   "cell_type": "code",
   "execution_count": 6,
   "id": "38c27736-66d9-4ae0-adc8-ddb8b37b005d",
   "metadata": {},
   "outputs": [
    {
     "data": {
      "image/png": "[encoded data removed]",
      "text/plain": [
       "<Figure size 432x288 with 1 Axes>"
      ]
     },
     "metadata": {
      "needs_background": "light"
     },
     "output_type": "display_data"
    }
   ],
   "source": [
    "plt.scatter(df[['x']], df[['y']], color='red')\n",
    "plt.xlabel('x')\n",
    "plt.ylabel('y')\n",
    "plt.show()"
   ]
  },
  {
   "cell_type": "markdown",
   "id": "5a4426ae-c9a3-4520-a9a6-36231728b34f",
   "metadata": {},
   "source": [
    "## Model the data"
   ]
  },
  {
   "cell_type": "code",
   "execution_count": 7,
   "id": "8022b7c6-27d1-4d54-87a6-fbd21b29b4d2",
   "metadata": {},
   "outputs": [
    {
     "data": {
      "text/plain": [
       "LinearRegression()"
      ]
     },
     "execution_count": 7,
     "metadata": {},
     "output_type": "execute_result"
    }
   ],
   "source": [
    "model = LinearRegression()\n",
    "model.fit(df[['x']], df[['y']])"
   ]
  },
  {
   "cell_type": "markdown",
   "id": "cc311fce-f699-4168-9eb2-9b7e34c94c91",
   "metadata": {},
   "source": [
    "## Linear model plot with original data"
   ]
  },
  {
   "cell_type": "code",
   "execution_count": 9,
   "id": "03dc0273-476b-4f81-b699-b11a6e2aa6ab",
   "metadata": {},
   "outputs": [
    {
     "data": {
      "image/png": "[encoded data removed]",
      "text/plain": [
       "<Figure size 432x288 with 1 Axes>"
      ]
     },
     "metadata": {
      "needs_background": "light"
     },
     "output_type": "display_data"
    }
   ],
   "source": [
    "plt.scatter(df[['x']], df[['y']], color='red')\n",
    "plt.plot(df[['x']], model.predict(df[['x']]), color='blue')\n",
    "plt.xlabel('x')\n",
    "plt.ylabel('y')\n",
    "plt.title('Feature vs Prediction')\n",
    "plt.show()"
   ]
  }
 ],
 "metadata": {
  "kernelspec": {
   "display_name": "Python 3 (ipykernel)",
   "language": "python",
   "name": "python3"
  },
  "language_info": {
   "codemirror_mode": {
    "name": "ipython",
    "version": 3
   },
   "file_extension": ".py",
   "mimetype": "text/x-python",
   "name": "python",
   "nbconvert_exporter": "python",
   "pygments_lexer": "ipython3",
   "version": "3.7.12"
  }
 },
 "nbformat": 4,
 "nbformat_minor": 5
}
